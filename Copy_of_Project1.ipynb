{
  "nbformat": 4,
  "nbformat_minor": 0,
  "metadata": {
    "colab": {
      "provenance": []
    },
    "kernelspec": {
      "name": "python3",
      "display_name": "Python 3"
    },
    "language_info": {
      "name": "python"
    }
  },
  "cells": [
    {
      "cell_type": "code",
      "execution_count": null,
      "metadata": {
        "id": "VQkP3o-6MZ9l"
      },
      "outputs": [],
      "source": [
        "import pandas as pd\n",
        "import numpy as np\n",
        "import spacy   # another tokenizer, lemmatizer (has --> be)\n",
        "from sklearn.feature_extraction.text import TfidfTransformer\n",
        "from sklearn.feature_extraction.text import CountVectorizer\n",
        "import matplotlib.pyplot as plt"
      ]
    },
    {
      "cell_type": "code",
      "source": [
        "#from google.colab import drive\n",
        "#drive.mount('/content/drive')"
      ],
      "metadata": {
        "colab": {
          "base_uri": "https://localhost:8080/"
        },
        "id": "3oAKm0QBWx7m",
        "outputId": "97b5176e-c1e4-40c3-d971-29f136a785c5"
      },
      "execution_count": null,
      "outputs": [
        {
          "output_type": "stream",
          "name": "stdout",
          "text": [
            "Mounted at /content/drive\n"
          ]
        }
      ]
    },
    {
      "cell_type": "code",
      "source": [
        "#movie_df = pd.read_csv('drive/MyDrive/shortened_movies.csv')\n",
        "movie_df = pd.read_csv('shortened_movies.csv')\n",
        "#print(movie_df.columns)\n",
        "print(movie_df.shape)"
      ],
      "metadata": {
        "colab": {
          "base_uri": "https://localhost:8080/"
        },
        "id": "9UdbEvrPOWwa",
        "outputId": "558c1f85-69d4-404f-926f-93de184b4f92"
      },
      "execution_count": null,
      "outputs": [
        {
          "output_type": "stream",
          "name": "stdout",
          "text": [
            "(1559, 4)\n"
          ]
        }
      ]
    },
    {
      "cell_type": "code",
      "source": [
        "choose_genres = ['romantic comedy','action']\n",
        "select_movies = movie_df[['Title','Plot', 'Genre']][movie_df['Genre'].isin(choose_genres)]\n",
        "print(select_movies.shape)\n",
        "#print(select_movies[:3])"
      ],
      "metadata": {
        "colab": {
          "base_uri": "https://localhost:8080/"
        },
        "id": "r7dug7TYP7Vu",
        "outputId": "bc53ceaa-6e1a-4d73-b1ef-5b09797fc9b4"
      },
      "execution_count": null,
      "outputs": [
        {
          "output_type": "stream",
          "name": "stdout",
          "text": [
            "(1559, 3)\n"
          ]
        }
      ]
    },
    {
      "cell_type": "code",
      "source": [
        "nlp = spacy.load('en_core_web_sm')\n",
        "nlp.disable_pipes('parser', 'ner') "
      ],
      "metadata": {
        "colab": {
          "base_uri": "https://localhost:8080/"
        },
        "id": "XCy3VvgjRPh0",
        "outputId": "51752ce3-d3a4-4584-b68c-8f2a236c37e4"
      },
      "execution_count": null,
      "outputs": [
        {
          "output_type": "execute_result",
          "data": {
            "text/plain": [
              "['parser', 'ner']"
            ]
          },
          "metadata": {},
          "execution_count": 73
        }
      ]
    },
    {
      "cell_type": "code",
      "source": [
        "def nlp_processing(doc): # from indexing.ipyns\n",
        "  nlp.max_length = len(doc)\n",
        "  tokens = nlp(doc)\n",
        "    \n",
        "  #eliminates stop words  and non alpha num\n",
        "  terms = [token for token in tokens if not token.is_stop and token.is_alpha]\n",
        "\n",
        "  start_prop_noun = False\n",
        "  words_spacy = []\n",
        "  for t in terms:\n",
        "    if t.pos_ == \"PROPN\":\n",
        "      if not start_prop_noun:\n",
        "        start_prop_noun = True\n",
        "        prop_noun = t.text.lower()\n",
        "      else:\n",
        "        prop_noun += ' ' + t.text.lower()\n",
        "    elif start_prop_noun:\n",
        "      start_prop_noun = False\n",
        "      words_spacy.append(prop_noun)\n",
        "      prop_noun = \"\"\n",
        "        \n",
        "    if not start_prop_noun:\n",
        "      words_spacy.append(t.lemma_.lower())\n",
        "  \n",
        "  return words_spacy"
      ],
      "metadata": {
        "id": "sl-GHGppRxJe"
      },
      "execution_count": null,
      "outputs": []
    },
    {
      "cell_type": "code",
      "source": [
        "vect = CountVectorizer(tokenizer = nlp_processing, min_df = 8)\n",
        "\n",
        "counter = vect.fit_transform(select_movies['Plot'])  # matrix representation of each movie as a tf-idf vector\n",
        "\n",
        "\n",
        "print(len(vect.get_feature_names_out()))\n",
        "#print(vect.get_feature_names_out()[:100])\n",
        "#print(vect.get_feature_names_out()[-20:])"
      ],
      "metadata": {
        "colab": {
          "base_uri": "https://localhost:8080/"
        },
        "id": "QPv83yi8S4SX",
        "outputId": "5d341af7-8109-4315-d4fe-66f9884733c0"
      },
      "execution_count": null,
      "outputs": [
        {
          "output_type": "stream",
          "name": "stdout",
          "text": [
            "3626\n"
          ]
        }
      ]
    },
    {
      "cell_type": "code",
      "source": [
        "transf  = TfidfTransformer(sublinear_tf = True)\n",
        "tf_idf = transf.fit_transform(counter) \n",
        "print(tf_idf.shape[0])\n",
        "print(tf_idf.shape[1])"
      ],
      "metadata": {
        "colab": {
          "base_uri": "https://localhost:8080/"
        },
        "id": "WaeX_HTsZtF6",
        "outputId": "586b8893-fb85-4d13-9de6-a3a997ec7a6a"
      },
      "execution_count": null,
      "outputs": [
        {
          "output_type": "stream",
          "name": "stdout",
          "text": [
            "1559\n",
            "3626\n"
          ]
        }
      ]
    },
    {
      "cell_type": "code",
      "source": [
        "def counter_func(items):\n",
        "  sort_items = sorted(items) # sorts tokens alphabetically\n",
        "  count_items = {}\n",
        "  for item in sort_items:\n",
        "    if item in count_items.keys():\n",
        "      count_items[item] += 1\n",
        "    else:\n",
        "      count_items[item] = 1\n",
        "  \n",
        "  # sort by the count, in reverse order\n",
        "  sorted_count_list = sorted(count_items.items(), \n",
        "                            key = lambda x:x[1], reverse = True)\n",
        "  sorted_count_dict = dict(sorted_count_list)\n",
        "  return sorted_count_dict"
      ],
      "metadata": {
        "id": "EWwsCTa1kXTl"
      },
      "execution_count": null,
      "outputs": []
    },
    {
      "cell_type": "code",
      "source": [
        "def tf_idf_func(query, vocabulary):\n",
        "  #Process the query and get term frequency count\n",
        "  print(\"Query: \\\"\" + query + \"\\\"\")\n",
        "  tokens = nlp_processing(query)\n",
        "  tf_query = counter_func(tokens)\n",
        "  \n",
        "  sim_query_doc = {} #{doc_id: similarity function results}\n",
        "  #For each query term\n",
        "  for (term_q,tf_term_q) in tf_query.items():\n",
        "    #print(\"query term:\",term_q,\"\\tfreq:\",tf_term_q)\n",
        "    #if query term is found in any document (dict_term_freq[term_q] will throw an error if query term is not in any document)\n",
        "    if term_q in vocabulary:\n",
        "\n",
        "      #get list of documents where tf-idf > 0 for this term\n",
        "      tf_idf_scores_of_word = tf_idf[:,np.where(vocabulary == term_q)[0][0]]\n",
        "      #docs = tf_idf_scores_of_word > 0\n",
        "\n",
        "      #for each document the query term is found in (can skip if not found in document b/c portion of summation will = 0)\n",
        "      for doc in tf_idf_scores_of_word.nonzero()[0]:\n",
        "        #If doc found, add current term's results to previous term's results\n",
        "        if doc in sim_query_doc:\n",
        "          #tf_doc = tf_func(dict_term_freq[term_q][doc])\n",
        "          #idf_doc = idf_func(n_docs, doc_freq[np.where(vocabulary == term_q)])\n",
        "          sim_query_doc[doc] += float(tf_term_q * tf_idf_scores_of_word[doc,0])\n",
        "        else:\n",
        "          #tf_doc = tf_func(dict_term_freq[term_q][doc])\n",
        "          #idf_doc = idf_func(n_docs, doc_freq[np.where(vocabulary == term_q)])\n",
        "          sim_query_doc[doc] = float(tf_term_q * tf_idf_scores_of_word[doc,0])\n",
        "\n",
        "  sorted_sim = dict(sorted(sim_query_doc.items(), key = lambda x: x[1], \n",
        "                    reverse = True))\n",
        "  return sorted_sim"
      ],
      "metadata": {
        "id": "QpCMh6L6cGW6"
      },
      "execution_count": null,
      "outputs": []
    },
    {
      "cell_type": "code",
      "source": [
        "#print(select_movies['Plot'].iloc[1])\n",
        "vocab = vect.get_feature_names_out()"
      ],
      "metadata": {
        "id": "-MJ_sxprjHv0"
      },
      "execution_count": null,
      "outputs": []
    },
    {
      "cell_type": "code",
      "source": [
        "#Rocchio Feedback\n",
        "def rocchio_feedback(original_query, relevant_docs, nonrelevant_docs, alpha, beta, gamma):\n",
        "  tf_idf_relevant = tf_idf[relevant_docs,:]\n",
        "  tf_idf_nonrelevant = tf_idf[nonrelevant_docs,:]\n",
        "\n",
        "  #print(tf_idf_relevant.shape)\n",
        "  #print(tf_idf_nonrelevant.shape)\n",
        "\n",
        "  #compute centroids\n",
        "  # centroid_positive = [0] * tf_idf_relevant.shape[1]\n",
        "  # for i in range(tf_idf_relevant.shape[0]):\n",
        "  #   centroid_positive += tf_idf_relevant[i,:]\n",
        "  if len(relevant_docs) > 0:\n",
        "    centroid_positive = tf_idf_relevant.mean(0)\n",
        "  else:\n",
        "    #centroid_positive = np.array([0] * tf_idf.shape[1])\n",
        "    centroid_positive = original_query\n",
        "\n",
        "  if len(nonrelevant_docs) > 0: \n",
        "    centroid_negative = tf_idf_nonrelevant.mean(0)\n",
        "  else:\n",
        "    #centroid_negative = np.array([0] * tf_idf.shape[1])\n",
        "    centroid_negative = original_query\n",
        "\n",
        "  #print(type(centroid_positive))\n",
        "  #print(type(centroid_negative))\n",
        "  #print(len(centroid_positive))\n",
        "  #print(centroid_negative.shape)\n",
        "\n",
        "  #oq_array = original_query\n",
        "\n",
        "  return alpha * original_query + beta * centroid_positive - gamma * centroid_negative"
      ],
      "metadata": {
        "id": "1CtqfyVHRWvN"
      },
      "execution_count": null,
      "outputs": []
    },
    {
      "cell_type": "code",
      "source": [
        "def tf_idf_func_rocchio(query, new_rocchio_query, vocabulary):\n",
        "  #Process the query and get term frequency count\n",
        "  print(\"Query: \\\"\" + query + \"\\\"\")\n",
        "  tokens = nlp_processing(query)\n",
        "  tf_query = counter_func(tokens)\n",
        "  \n",
        "  sim_query_doc = {} #{doc_id: similarity function results}\n",
        "  #For each query term\n",
        "  for term_id in new_rocchio_query.nonzero()[1]:\n",
        "    #print(\"query term:\",term_q,\"\\tfreq:\",tf_term_q)\n",
        "    #if query term is found in any document (dict_term_freq[term_q] will throw an error if query term is not in any document)\n",
        "    #if term_q in vocabulary:\n",
        "\n",
        "    #get list of documents where tf-idf > 0 for this term\n",
        "    tf_idf_scores_of_word = tf_idf[:,term_id]\n",
        "    #docs = tf_idf_scores_of_word > 0\n",
        "\n",
        "    #for each document the query term is found in (can skip if not found in document b/c portion of summation will = 0)\n",
        "    for doc in tf_idf_scores_of_word.nonzero()[0]:\n",
        "      #If doc found, add current term's results to previous term's results\n",
        "      if doc in sim_query_doc:\n",
        "        #tf_doc = tf_func(dict_term_freq[term_q][doc])\n",
        "        #idf_doc = idf_func(n_docs, doc_freq[np.where(vocabulary == term_q)])\n",
        "        sim_query_doc[doc] += float(new_rocchio_query[0,term_id] * tf_idf_scores_of_word[doc,0])\n",
        "      else:\n",
        "        #tf_doc = tf_func(dict_term_freq[term_q][doc])\n",
        "        #idf_doc = idf_func(n_docs, doc_freq[np.where(vocabulary == term_q)])\n",
        "        sim_query_doc[doc] = float(new_rocchio_query[0,term_id] * tf_idf_scores_of_word[doc,0])\n",
        "\n",
        "  sorted_sim = dict(sorted(sim_query_doc.items(), key = lambda x: x[1], \n",
        "                    reverse = True))\n",
        "  return sorted_sim"
      ],
      "metadata": {
        "id": "k8MbUO3md0HN"
      },
      "execution_count": null,
      "outputs": []
    },
    {
      "cell_type": "code",
      "source": [
        "# sorted_sim = tf_idf_func_rocchio(\"coward criminal arrested\", rocchio_query, vocab)\n",
        "# print(\"TF-IDF:\")\n",
        "# [print(str(doc_id) + \": \" + select_movies['Plot'].iloc[doc_id] + \":\\t\" + str(value)) for (doc_id,value) in list(sorted_sim.items())[:10]]\n",
        "\n",
        "search_query = \"coward criminal arrested\"\n",
        "\n",
        "sorted_sim = tf_idf_func(search_query, vocab)\n",
        "print(\"TF-IDF:\")\n",
        "[print(str(doc_id) + \": \" + select_movies['Title'].iloc[doc_id] + \":\\t\" + str(value)) for (doc_id,value) in list(sorted_sim.items())[:10]]\n",
        "\n",
        "query_counter = vect.transform([search_query])\n",
        "query_tf_idf = transf.transform(query_counter)\n",
        "rocchio_query = rocchio_feedback(query_tf_idf, [1028,1145,1084,1436], [861,1061,423,1031,903,272], .7, .2, .1)\n",
        "\n",
        "sorted_sim = tf_idf_func_rocchio(search_query, rocchio_query, vocab)\n",
        "print(\"TF-IDF:\")\n",
        "[print(str(doc_id) + \": \" + select_movies['Title'].iloc[doc_id] + \":\\t\" + str(value)) for (doc_id,value) in list(sorted_sim.items())[:10]]"
      ],
      "metadata": {
        "colab": {
          "base_uri": "https://localhost:8080/"
        },
        "id": "bsZUNuiHpk-l",
        "outputId": "189a121e-02bd-48ac-cd49-565d0aac6b44"
      },
      "execution_count": null,
      "outputs": [
        {
          "output_type": "stream",
          "name": "stdout",
          "text": [
            "Query: \"coward criminal arrested\"\n",
            "TF-IDF:\n",
            "861: The Long Duel:\t0.3782154630359088\n",
            "1028: Aakhri Adaalat:\t0.31750993214977663\n",
            "1145: Deadly Soma:\t0.31268971344687024\n",
            "1084: Judge Mujrim:\t0.282714355302558\n",
            "1061: Pardesi:\t0.27732632395300233\n",
            "1436: Ek Niranjan:\t0.2768002767177371\n",
            "423: Extreme Justice:\t0.26789795999234806\n",
            "1031: Paap Ki Duniya:\t0.243679772448755\n",
            "903: The Fast Sword:\t0.24012357732339118\n",
            "272: Walking the Edge:\t0.23825499812405299\n",
            "Query: \"coward criminal arrested\"\n",
            "TF-IDF:\n",
            "1145: Deadly Soma:\t0.14786128659376355\n",
            "1028: Aakhri Adaalat:\t0.1465893189777554\n",
            "1436: Ek Niranjan:\t0.13311442735428977\n",
            "1084: Judge Mujrim:\t0.13215224610340853\n",
            "861: The Long Duel:\t0.10022566154135575\n",
            "1095: Arjun Pandit:\t0.09358792390375595\n",
            "1061: Pardesi:\t0.08650791010002071\n",
            "1128: Singham:\t0.08557487435930877\n",
            "1047: Prahaar: The Final Attack:\t0.07482208600288279\n",
            "1015: Aamne Samne:\t0.0723559971737122\n"
          ]
        },
        {
          "output_type": "execute_result",
          "data": {
            "text/plain": [
              "[None, None, None, None, None, None, None, None, None, None]"
            ]
          },
          "metadata": {},
          "execution_count": 82
        }
      ]
    },
    {
      "cell_type": "code",
      "source": [
        "x = range(1,11)\n",
        "y1 = [0/1,1/2,2/3,3/4,3/5,4/6,4/7,4/8,4/9,4/10]\n",
        "y2 = [1/1,2/2,3/3,4/4,4/5,5/6,5/7,6/8,6/9,7/10]\n",
        "\n",
        "fig, (ax1, ax2) = plt.subplots(1, 2)\n",
        "ax1.scatter(x,y1)\n",
        "ax1.set_title('Precision Results from TF-IDF')\n",
        "ax1.set(xlabel='# of Results', ylabel='Precision')\n",
        "ax1.set_ylim([0,1])\n",
        "ax2.scatter(x,y2)\n",
        "ax2.set_title('Precision Results from TF-IDF with Rocchio')\n",
        "ax2.set(xlabel='# of Results')\n",
        "ax2.set_ylim([0,1])\n",
        "fig.suptitle(\"Query: 'coward criminal arrested'\")\n",
        "plt.subplots_adjust(wspace=1.5)\n",
        "plt.show()"
      ],
      "metadata": {
        "colab": {
          "base_uri": "https://localhost:8080/",
          "height": 308
        },
        "id": "9tehbJeemuJP",
        "outputId": "cbfd2a15-34fc-4027-e6a3-53cd7adb01e6"
      },
      "execution_count": null,
      "outputs": [
        {
          "output_type": "display_data",
          "data": {
            "text/plain": [
              "<Figure size 432x288 with 2 Axes>"
            ],
            "image/png": "[encoded data removed]"
          },
          "metadata": {
            "needs_background": "light"
          }
        }
      ]
    },
    {
      "cell_type": "code",
      "source": [
        "sorted_sim = tf_idf_func(\"christmas action movie\", vocab)\n",
        "print(\"TF-IDF:\")\n",
        "[print(str(doc_id) + \": \" + select_movies['Title'].iloc[doc_id] + \":\\t\" + str(value)) for (doc_id,value) in list(sorted_sim.items())[:10]]\n",
        "\n",
        "query_counter = vect.transform([\"christmas action movie\"])\n",
        "query_tf_idf = transf.transform(query_counter)\n",
        "rocchio_query = rocchio_feedback(query_tf_idf, [], [1160,1072,1090,1104,1012,1159,1087,1064,1158,1099], .7, .2, .1)\n",
        "\n",
        "sorted_sim = tf_idf_func_rocchio(\"christmas action movie\", rocchio_query, vocab)\n",
        "print(\"TF-IDF:\")\n",
        "[print(str(doc_id) + \": \" + select_movies['Title'].iloc[doc_id] + \":\\t\" + str(value)) for (doc_id,value) in list(sorted_sim.items())[:10]]"
      ],
      "metadata": {
        "colab": {
          "base_uri": "https://localhost:8080/"
        },
        "id": "_cErBkUtqizT",
        "outputId": "701b2669-ccef-4f0e-c5a6-202bf148bc5b"
      },
      "execution_count": null,
      "outputs": [
        {
          "output_type": "stream",
          "name": "stdout",
          "text": [
            "Query: \"christmas action movie\"\n",
            "TF-IDF:\n",
            "1160: Kote:\t0.5676069615133247\n",
            "1072: Jurmana:\t0.5496731090190631\n",
            "1090: Devta:\t0.5276071503584914\n",
            "1104: Sanyasi Mera Naam:\t0.5276071503584914\n",
            "1012: Ghamandee:\t0.4865362300135259\n",
            "1159: Kanteerava:\t0.4113141992036755\n",
            "1087: Suraj:\t0.3892554662694855\n",
            "1064: Kranti Kshetra:\t0.3521787454031901\n",
            "1158: Boss:\t0.3289581371849738\n",
            "1099: Kahani Kismat Ki:\t0.32666934741601517\n",
            "Query: \"christmas action movie\"\n",
            "TF-IDF:\n",
            "1160: Kote:\t0.20849813456252264\n",
            "1072: Jurmana:\t0.20744678816732418\n",
            "1090: Devta:\t0.18692906666334697\n",
            "1104: Sanyasi Mera Naam:\t0.18692906666334697\n",
            "1012: Ghamandee:\t0.18339391662656987\n",
            "674: Four Christmases:\t0.153864983374774\n",
            "1087: Suraj:\t0.14508712637791338\n",
            "1159: Kanteerava:\t0.1428574326143883\n",
            "1064: Kranti Kshetra:\t0.13038971788079168\n",
            "700: The Expendables:\t0.12416789727206934\n"
          ]
        },
        {
          "output_type": "execute_result",
          "data": {
            "text/plain": [
              "[None, None, None, None, None, None, None, None, None, None]"
            ]
          },
          "metadata": {},
          "execution_count": 84
        }
      ]
    },
    {
      "cell_type": "code",
      "source": [
        "x = range(1,11)\n",
        "y1 = [0/1,0/2,0/3,0/4,0/5,0/6,0/7,0/8,0/9,0/10]\n",
        "y2 = [0/1,0/2,0/3,0/4,0/5,0/6,0/7,0/8,0/9,0/10]\n",
        "\n",
        "fig, (ax1, ax2) = plt.subplots(1, 2)\n",
        "ax1.scatter(x,y1)\n",
        "ax1.set_title('Precision Results from TF-IDF')\n",
        "ax1.set(xlabel='# of Results', ylabel='Precision')\n",
        "ax1.set_ylim([0,1])\n",
        "ax2.scatter(x,y2)\n",
        "ax2.set_title('Precision Results from TF-IDF with Rocchio')\n",
        "ax2.set(xlabel='# of Results')\n",
        "ax2.set_ylim([0,1])\n",
        "fig.suptitle(\"Query: 'christmas action movie'\")\n",
        "plt.subplots_adjust(wspace=1.5)\n",
        "plt.show()"
      ],
      "metadata": {
        "colab": {
          "base_uri": "https://localhost:8080/",
          "height": 308
        },
        "id": "Iqgly3ef3Ax8",
        "outputId": "42b28923-773e-48a8-c402-f8a35ba08622"
      },
      "execution_count": null,
      "outputs": [
        {
          "output_type": "display_data",
          "data": {
            "text/plain": [
              "<Figure size 432x288 with 2 Axes>"
            ],
            "image/png": "[encoded data removed]"
          },
          "metadata": {
            "needs_background": "light"
          }
        }
      ]
    },
    {
      "cell_type": "code",
      "source": [
        "search_query = \"love at first sight\"\n",
        "\n",
        "sorted_sim = tf_idf_func(search_query, vocab)\n",
        "print(\"TF-IDF:\")\n",
        "[print(str(doc_id) + \": \" + select_movies['Title'].iloc[doc_id] + \":\\t\" + str(value)) for (doc_id,value) in list(sorted_sim.items())[:10]]\n",
        "\n",
        "query_counter = vect.transform([search_query])\n",
        "query_tf_idf = transf.transform(query_counter)\n",
        "rocchio_query = rocchio_feedback(query_tf_idf, [1417,1313,195], [1160,1072,1221,1200,1159,1512,1196], .7, .2, .1)\n",
        "\n",
        "sorted_sim = tf_idf_func_rocchio(search_query, rocchio_query, vocab)\n",
        "print(\"TF-IDF:\")\n",
        "[print(str(doc_id) + \": \" + select_movies['Title'].iloc[doc_id] + \":\\t\" + str(value)) for (doc_id,value) in list(sorted_sim.items())[:10]]"
      ],
      "metadata": {
        "colab": {
          "base_uri": "https://localhost:8080/"
        },
        "id": "XwFnXEhL2gk2",
        "outputId": "3aff7ae4-65e6-4b51-ff17-382b8c86287b"
      },
      "execution_count": null,
      "outputs": [
        {
          "output_type": "stream",
          "name": "stdout",
          "text": [
            "Query: \"love at first sight\"\n",
            "TF-IDF:\n",
            "1417: Sri:\t0.3333339525037201\n",
            "1160: Kote:\t0.33149149517891224\n",
            "1072: Jurmana:\t0.29807336837350096\n",
            "1313: Kandaen:\t0.29221624901121324\n",
            "195: Minnie and Moskowitz:\t0.24737100532626424\n",
            "1221: Mundeyan Ton Bachke Rahin:\t0.24723976714792295\n",
            "1200: Sringara Velan:\t0.24245970909506814\n",
            "1159: Kanteerava:\t0.24021403563977\n",
            "1512: Winner:\t0.20547471602983247\n",
            "1196: Navagatharkku Swagatham (നവാഗതർക്കു് സ്വാഗതം):\t0.20045421504911304\n",
            "Query: \"love at first sight\"\n",
            "TF-IDF:\n",
            "1417: Sri:\t0.24586583952896815\n",
            "1313: Kandaen:\t0.22223735798286143\n",
            "195: Minnie and Moskowitz:\t0.1307094736373176\n",
            "1200: Sringara Velan:\t0.10972395385896756\n",
            "549: Passport to Paris:\t0.10775883021667942\n",
            "1279: Malaikottai:\t0.09901987779011709\n",
            "1423: Bhayya:\t0.09901987779011709\n",
            "1466: Nuvva Nena:\t0.09651419038387071\n",
            "1498: Jil:\t0.09511477231089961\n",
            "1317: Raa Raa:\t0.09205015335553016\n"
          ]
        },
        {
          "output_type": "execute_result",
          "data": {
            "text/plain": [
              "[None, None, None, None, None, None, None, None, None, None]"
            ]
          },
          "metadata": {},
          "execution_count": 86
        }
      ]
    },
    {
      "cell_type": "code",
      "source": [
        "x = range(1,11)\n",
        "y1 = [1/1,1/2,2/3,2/4,3/5,3/6,3/7,3/8,3/9,3/10]\n",
        "y2 = [1/1,2/2,3/3,3/4,3/5,4/6,5/7,6/8,6/9,6/10]\n",
        "\n",
        "fig, (ax1, ax2) = plt.subplots(1, 2)\n",
        "ax1.scatter(x,y1)\n",
        "ax1.set_title('Precision Results from TF-IDF')\n",
        "ax1.set(xlabel='# of Results', ylabel='Precision')\n",
        "ax1.set_ylim([0,1])\n",
        "ax2.scatter(x,y2)\n",
        "ax2.set_title('Precision Results from TF-IDF with Rocchio')\n",
        "ax2.set(xlabel='# of Results')\n",
        "ax2.set_ylim([0,1])\n",
        "fig.suptitle(\"Query: 'love at first sight'\")\n",
        "plt.subplots_adjust(wspace=1.5)\n",
        "plt.show()"
      ],
      "metadata": {
        "colab": {
          "base_uri": "https://localhost:8080/",
          "height": 308
        },
        "id": "QBsSEApwO2TA",
        "outputId": "0324485a-e5b5-482d-c15b-a20b76545f46"
      },
      "execution_count": null,
      "outputs": [
        {
          "output_type": "display_data",
          "data": {
            "text/plain": [
              "<Figure size 432x288 with 2 Axes>"
            ],
            "image/png": "[encoded data removed]"
          },
          "metadata": {
            "needs_background": "light"
          }
        }
      ]
    },
    {
      "cell_type": "code",
      "source": [
        "search_query = \"finding a missing person\"\n",
        "\n",
        "sorted_sim = tf_idf_func(search_query, vocab)\n",
        "print(\"TF-IDF:\")\n",
        "[print(str(doc_id) + \": \" + select_movies['Title'].iloc[doc_id] + \":\\t\" + str(value)) for (doc_id,value) in list(sorted_sim.items())[:10]]\n",
        "\n",
        "query_counter = vect.transform([search_query])\n",
        "query_tf_idf = transf.transform(query_counter)\n",
        "rocchio_query = rocchio_feedback(query_tf_idf, [1032,1029], [1470,856,1044,302,69,715,1427,488], .7, .2, .1)\n",
        "\n",
        "sorted_sim = tf_idf_func_rocchio(search_query, rocchio_query, vocab)\n",
        "print(\"TF-IDF:\")\n",
        "[print(str(doc_id) + \": \" + select_movies['Title'].iloc[doc_id] + \":\\t\" + str(value)) for (doc_id,value) in list(sorted_sim.items())[:10]]"
      ],
      "metadata": {
        "colab": {
          "base_uri": "https://localhost:8080/"
        },
        "id": "MxyHNuhVRX5d",
        "outputId": "51117033-1548-4f58-bae0-53ee10d76357"
      },
      "execution_count": null,
      "outputs": [
        {
          "output_type": "stream",
          "name": "stdout",
          "text": [
            "Query: \"finding a missing person\"\n",
            "TF-IDF:\n",
            "1470: Srimannarayana:\t0.3114229672509513\n",
            "856: Our Man in the Caribbean:\t0.24935144803184112\n",
            "1032: Saazish:\t0.23740001753060283\n",
            "1044: Farishtay:\t0.21780834926828035\n",
            "1029: Jeete Hain Shaan Se:\t0.21633141125516728\n",
            "302: Armed Response:\t0.20986862646465068\n",
            "69: Dancing Co-Ed:\t0.20741293159550578\n",
            "715: The Switch:\t0.20512687148767136\n",
            "1427: Okka Magadu:\t0.2015321986140492\n",
            "488: One Fine Day:\t0.19862154821413502\n",
            "Query: \"finding a missing person\"\n",
            "TF-IDF:\n",
            "1032: Saazish:\t0.19464783715102968\n",
            "1029: Jeete Hain Shaan Se:\t0.18015228712844805\n",
            "1470: Srimannarayana:\t0.12324706746390866\n",
            "856: Our Man in the Caribbean:\t0.11244575767701555\n",
            "1134: Enemmy:\t0.08996656444716841\n",
            "728: No Strings Attached:\t0.08937905996355844\n",
            "1500: Malupu:\t0.08494439353739512\n",
            "1519: Paisa Vasool:\t0.08356492310638891\n",
            "1008: Do Shikaari:\t0.08309204674798659\n",
            "715: The Switch:\t0.08240948021035308\n"
          ]
        },
        {
          "output_type": "execute_result",
          "data": {
            "text/plain": [
              "[None, None, None, None, None, None, None, None, None, None]"
            ]
          },
          "metadata": {},
          "execution_count": 88
        }
      ]
    },
    {
      "cell_type": "code",
      "source": [
        "x = range(1,11)\n",
        "y1 = [0/1,0/2,1/3,1/4,2/5,2/6,2/7,2/8,2/9,2/10]\n",
        "y2 = [1/1,2/2,2/3,2/4,2/5,2/6,3/7,4/8,5/9,5/10]\n",
        "\n",
        "fig, (ax1, ax2) = plt.subplots(1, 2)\n",
        "ax1.scatter(x,y1)\n",
        "ax1.set_title('Precision Results from TF-IDF')\n",
        "ax1.set(xlabel='# of Results', ylabel='Precision')\n",
        "ax1.set_ylim([0,1])\n",
        "ax2.scatter(x,y2)\n",
        "ax2.set_title('Precision Results from TF-IDF with Rocchio')\n",
        "ax2.set(xlabel='# of Results')\n",
        "ax2.set_ylim([0,1])\n",
        "fig.suptitle(\"Query: 'finding a missing person'\")\n",
        "plt.subplots_adjust(wspace=1.5)\n",
        "plt.show()"
      ],
      "metadata": {
        "colab": {
          "base_uri": "https://localhost:8080/",
          "height": 308
        },
        "id": "zp_DncOfa_4w",
        "outputId": "e58b2acd-2518-42cf-8b33-1340dc92bf49"
      },
      "execution_count": null,
      "outputs": [
        {
          "output_type": "display_data",
          "data": {
            "text/plain": [
              "<Figure size 432x288 with 2 Axes>"
            ],
            "image/png": "[encoded data removed]"
          },
          "metadata": {
            "needs_background": "light"
          }
        }
      ]
    },
    {
      "cell_type": "code",
      "source": [
        "search_query = \"Remarry after relationship ended\"\n",
        "\n",
        "sorted_sim = tf_idf_func(search_query, vocab)\n",
        "print(\"TF-IDF:\")\n",
        "[print(str(doc_id) + \": \" + select_movies['Title'].iloc[doc_id] + \":\\t\" + str(value)) for (doc_id,value) in list(sorted_sim.items())[:10]]\n",
        "\n",
        "query_counter = vect.transform([search_query])\n",
        "query_tf_idf = transf.transform(query_counter)\n",
        "rocchio_query = rocchio_feedback(query_tf_idf, [262,1097,883,962,1201,773,381,893], [301,603], .7, .2, .1)\n",
        "\n",
        "sorted_sim = tf_idf_func_rocchio(search_query, rocchio_query, vocab)\n",
        "print(\"TF-IDF:\")\n",
        "[print(str(doc_id) + \": \" + select_movies['Title'].iloc[doc_id] + \":\\t\" + str(value)) for (doc_id,value) in list(sorted_sim.items())[:10]]"
      ],
      "metadata": {
        "colab": {
          "base_uri": "https://localhost:8080/"
        },
        "id": "6h_f1SsRbfU4",
        "outputId": "7054acb7-2a41-4fea-c0db-af2a203e1ae4"
      },
      "execution_count": null,
      "outputs": [
        {
          "output_type": "stream",
          "name": "stdout",
          "text": [
            "Query: \"Remarry after relationship ended\"\n",
            "TF-IDF:\n",
            "262: Kiss Me Goodbye:\t0.31403939033882355\n",
            "1097: Gair:\t0.2852647597004154\n",
            "301: About Last Night...:\t0.260028022091267\n",
            "883: The Republic of Love:\t0.22531280081371022\n",
            "962: Always Be My Maybe:\t0.22139327159657105\n",
            "1201: Pattam Pole:\t0.21665105760504566\n",
            "773: That Awkward Moment:\t0.21633667516357666\n",
            "603: Something's Gotta Give:\t0.21594891337733882\n",
            "381: Funny About Love:\t0.20348845651629816\n",
            "893: Call for Love:\t0.19619292578445433\n",
            "Query: \"Remarry after relationship ended\"\n",
            "TF-IDF:\n",
            "1097: Gair:\t0.2045259621276764\n",
            "262: Kiss Me Goodbye:\t0.18506961226884744\n",
            "172: Marriage on the Rocks:\t0.10553000145489981\n",
            "883: The Republic of Love:\t0.09884615380682041\n",
            "837: The Farmer's Wife:\t0.09300644568279413\n",
            "294: Missing in Action 2: The Beginning:\t0.09003818610546203\n",
            "381: Funny About Love:\t0.08830186651852238\n",
            "962: Always Be My Maybe:\t0.08689739265687424\n",
            "773: That Awkward Moment:\t0.08630550846083346\n",
            "181: Hellfighters:\t0.08530915726483726\n"
          ]
        },
        {
          "output_type": "execute_result",
          "data": {
            "text/plain": [
              "[None, None, None, None, None, None, None, None, None, None]"
            ]
          },
          "metadata": {},
          "execution_count": 90
        }
      ]
    },
    {
      "cell_type": "code",
      "source": [
        "x = range(1,11)\n",
        "y1 = [1/1,2/2,2/3,3/4,4/5,5/6,6/7,6/8,7/9,8/10]\n",
        "y2 = [1/1,2/2,3/3,4/4,5/5,5/6,6/7,7/8,8/9,9/10]\n",
        "\n",
        "fig, (ax1, ax2) = plt.subplots(1, 2)\n",
        "ax1.scatter(x,y1)\n",
        "ax1.set_title('Precision Results from TF-IDF')\n",
        "ax1.set(xlabel='# of Results', ylabel='Precision')\n",
        "ax1.set_ylim([0,1])\n",
        "ax2.scatter(x,y2)\n",
        "ax2.set_title('Precision Results from TF-IDF with Rocchio')\n",
        "ax2.set(xlabel='# of Results')\n",
        "ax2.set_ylim([0,1])\n",
        "fig.suptitle(\"Query: 'Remarry after relationship ended'\")\n",
        "plt.subplots_adjust(wspace=1.5)\n",
        "plt.show()"
      ],
      "metadata": {
        "colab": {
          "base_uri": "https://localhost:8080/",
          "height": 308
        },
        "id": "4Oe5uXeMk5tl",
        "outputId": "1b0d4d2c-181c-46ee-b184-99dd20d0833d"
      },
      "execution_count": null,
      "outputs": [
        {
          "output_type": "display_data",
          "data": {
            "text/plain": [
              "<Figure size 432x288 with 2 Axes>"
            ],
            "image/png": "[encoded data removed]"
          },
          "metadata": {
            "needs_background": "light"
          }
        }
      ]
    },
    {
      "cell_type": "code",
      "source": [
        "precision_before_feedback_5 = np.array([3/5,0/5,3/5,2/5,4/5])\n",
        "precision_before_feedback_10 = np.array([4/10,0/10,3/10,2/10,8/10])\n",
        "precision_after_feedback_5 = np.array([4/5,0/5,3/5,2/5,5/5])\n",
        "precision_after_feedback_10 = np.array([7/10,0/10,6/10,5/10,10/10])\n",
        "\n",
        "print('Average Precision of Top 5 Results before feedback:',precision_before_feedback_5.mean())\n",
        "print('Average Precision of Top 10 Results before feedback:',precision_before_feedback_10.mean())\n",
        "print('Average Precision of Top 5 Results after feedback:',precision_after_feedback_5.mean())\n",
        "print('Average Precision of Top 10 Results after feedback:',precision_after_feedback_10.mean())\n",
        "print('Precision Standard Deviation of Top 5 Results before feedback:',precision_before_feedback_5.std())\n",
        "print('Precision Standard Deviation of Top 10 Results before feedback:',precision_before_feedback_10.std())\n",
        "print('Precision Standard Deviation of Top 5 Results after feedback:',precision_after_feedback_5.std())\n",
        "print('Precision Standard Deviation of Top 10 Results after feedback:',precision_after_feedback_10.std())"
      ],
      "metadata": {
        "colab": {
          "base_uri": "https://localhost:8080/"
        },
        "id": "cEy95IZ0nPBm",
        "outputId": "38b75c71-e0e9-4ab7-d2e8-1ea930736439"
      },
      "execution_count": null,
      "outputs": [
        {
          "output_type": "stream",
          "name": "stdout",
          "text": [
            "Average Precision of Top 5 Results before feedback: 0.4800000000000001\n",
            "Average Precision of Top 10 Results before feedback: 0.33999999999999997\n",
            "Average Precision of Top 5 Results after feedback: 0.5599999999999999\n",
            "Average Precision of Top 10 Results after feedback: 0.5599999999999999\n",
            "Precision Standard Deviation of Top 5 Results before feedback: 0.2712931993250107\n",
            "Precision Standard Deviation of Top 10 Results before feedback: 0.265329983228432\n",
            "Precision Standard Deviation of Top 5 Results after feedback: 0.34409301068170506\n",
            "Precision Standard Deviation of Top 10 Results after feedback: 0.32619012860600183\n"
          ]
        }
      ]
    }
  ]
}